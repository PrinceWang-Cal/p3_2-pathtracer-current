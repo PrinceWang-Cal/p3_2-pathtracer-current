{
 "cells": [
  {
   "cell_type": "markdown",
   "metadata": {},
   "source": [
    "## CS184: Computer Graphics\n",
    "## Sping 2022\n",
    "## Assignment 3-2: Pathtracer\n",
    "\n",
    "## Prince Wang"
   ]
  },
  {
   "cell_type": "markdown",
   "metadata": {},
   "source": [
    "## Overview"
   ]
  },
  {
   "cell_type": "markdown",
   "metadata": {},
   "source": [
    "\n",
    "\n",
    "An overview of the project, your approach to and implementation for each of the parts, and what problems you encountered and how you solved them. Strive for clarity and succinctness.\n",
    "On each part, make sure to include the results described in the corresponding Deliverables section in addition to your explanation. If you failed to generate any results correctly, provide a brief explanation of why.\n",
    "The final (optional) part for the art competition is where you have the opportunity to be creative and individual, so be sure to provide a good description of what you were going for and how you implemented it.\n",
    "Clearly indicate any extra credit items you completed, and provide a thorough explanation and illustration for each of them."
   ]
  },
  {
   "cell_type": "markdown",
   "metadata": {},
   "source": [
    "## Part 1: Mirror and Glass Materials"
   ]
  },
  {
   "cell_type": "markdown",
   "metadata": {},
   "source": [
    "### Requirements\n",
    "- Make sure you include a short but clear summary of your implementation\n",
    "- Show a sequence of six images of scene CBspheres.dae rendered with max_ray_depth set to 0, 1, 2, 3, 4, 5, and 100. The other settings should be at least 64 samples per pixel and 4 samples per light\n",
    "- Point out the new multibounce effects that appear in each image\n",
    "- Explain how these bounce numbers relate to the particular effects that appear"
   ]
  },
  {
   "cell_type": "markdown",
   "metadata": {},
   "source": [
    "####  Make sure you include a short but clear summary of your implementation:"
   ]
  },
  {
   "cell_type": "markdown",
   "metadata": {},
   "source": [
    "There are four functions that I implemented in total for this part.\n",
    "- BSDF::reflect()\n",
    "\n",
    "For reflection, we simply use the normal of the surface to determine the reflected ray's coordinate. This is given by\n",
    "In this case our normal is Vector3D(0,0,1), so it's a one liner.\n",
    "\n",
    "- MirrorBSDF::sample_f()\n",
    "\n",
    "This one is also straight forward. We first call the reflect() function, then we set the pdf to 1. At last we return (this->reflectance) / abs_cos_theta(wi). Notice that we need to run the case when max_depth is >= 1 because in order to see light reflection, we need to bound the light off the object into the camera. When max_depth = 0, we only see the light from light source.\n",
    "\n",
    "- BSDF::refract()\n",
    "\n",
    "This function is a little harder to implement. We need to calculate the correct change in ray's direction. The majority of the algorithm is given by the spec. The key is to understand how ior changes when entering and exiting the material. Another important detail is to check if we have total internal reflection, where we simply return false and exit the function. This check can be done by checking if 1.0 - pow(ior, 2) * (1.0 - pow(cos_theta, 2)) is < 0.\n",
    "\n",
    "- MicrofacetBSDF::sample_f()\n",
    "I coded up the algorithm according to the pseudo-code given by the spec. This function is not difficult, the key is to check for internal reflection. It there is internal reflection, assign reflection of wo to wi, set pdf to 1, and return reflectance / abs_cos_theta(wi). Otherwise, we doa. coin flip to decide whether to do reflection or refraction."
   ]
  },
  {
   "cell_type": "markdown",
   "metadata": {},
   "source": [
    "#### Show a sequence of six images of scene CBspheres.dae rendered with max_ray_depth set to 0, 1, 2, 3, 4, 5, and 100. The other settings should be at least 64 samples per pixel and 4 samples per light"
   ]
  },
  {
   "cell_type": "markdown",
   "metadata": {},
   "source": [
    "<table><tr>\n",
    "    \n",
    "<td> <img src=\"./webpage_img/part1_m0.png\" style=\"width: 400px;\"/>\n",
    "     <figcaption align=\"middle\" style=\"font-size: 24;\"> m = 0, s = 64, l = 4 </figcaption></td>\n",
    "\n",
    "<td> <img src=\"./webpage_img/part1_m1.png\" style=\"width: 400px;\"/>\n",
    "     <figcaption align=\"middle\" style=\"font-size: 24;\"> m = 1, s = 64, l = 4 </figcaption></td>\n",
    "\n",
    "</tr></table>\n",
    "\n",
    "<table><tr>\n",
    "    \n",
    "<td> <img src=\"./webpage_img/part1_m2.png\" style=\"width: 400px;\"/>\n",
    "     <figcaption align=\"middle\" style=\"font-size: 24;\"> m = 2, s = 64, l = 4 </figcaption></td>\n",
    "\n",
    "<td> <img src=\"./webpage_img/part1_m3.png\" style=\"width: 400px;\"/>\n",
    "     <figcaption align=\"middle\" style=\"font-size: 24;\"> m = 3, s = 64, l = 4 </figcaption></td>\n",
    "\n",
    "</tr></table>\n",
    "\n",
    "\n",
    "<table><tr>\n",
    "    \n",
    "<td> <img src=\"./webpage_img/part1_m4.png\" style=\"width: 400px;\"/>\n",
    "     <figcaption align=\"middle\" style=\"font-size: 24;\"> m = 4, s = 64, l = 4 </figcaption></td>\n",
    "\n",
    "<td> <img src=\"./webpage_img/part1_m5.png\" style=\"width: 400px;\"/>\n",
    "     <figcaption align=\"middle\" style=\"font-size: 24;\"> m = 5, s = 64, l = 4 </figcaption></td>\n",
    "\n",
    "</tr></table>\n",
    "\n",
    "<table><tr>\n",
    "    \n",
    "<td> <img src=\"./webpage_img/part1_m100.png\" style=\"width: 400px;\"/>\n",
    "     <figcaption align=\"middle\" style=\"font-size: 24;\"> m = 100, s = 64, l = 4 </figcaption></td>\n",
    "\n",
    "\n",
    "</tr></table>"
   ]
  },
  {
   "cell_type": "markdown",
   "metadata": {},
   "source": [
    "#### Point out the new multibounce effects that appear in each image and explain how these bounce numbers relate to the particular effects that appear\n",
    "\n",
    "It is very interesting to compare the multibounce effect. I realized that only for higher number of max_ray_depth can we see a ray going though the material, coming out, getting bounced off from a wall and reentering the material again. This is not happening for low bounce numbers.\n",
    "\n",
    "For m = 0, we only see light from light source as there is no ray bouncing off the object and entering the camera. With m = 1, we can already see the room, as light bounces off from the wall and entered the camera. The two spheres are interesting, we can see a portion of light hitting the sphere and bouncing off into the camera, but the majority of it is dark, as our max_ray_depth does not allow light coming off the glass material yet. With m=2, we can now see the reflected spheres, but not the refracted sphere. We begin to see the refracted sphere at m=3, as most light at that sphere bounce on the surface, go through it, and exit toward the camera, needing 3 bounces. At m = 4, we see the reflection of the right sphere inside the left sphere, as we have allowed one more bounce. Beyond m=5, we don't see much difference."
   ]
  },
  {
   "cell_type": "markdown",
   "metadata": {},
   "source": [
    "## Part 2\n",
    "\n",
    "### Requirements\n",
    "- Show a sequence of 4 images of scene CBdragon_microfacet_au.dae rendered with \\alphaα set to 0.005, 0.05, 0.25 and 0.5. The other settings should be at least 128 samples per pixel and 1 samples per light. The number of bounces should be at least 5. Describe the differences between different images. Note that, to change the \\alphaα, just open the .dae file and search for microfacet.\n",
    "- Show two images of scene CBbunny_microfacet_cu.dae rendered using cosine hemisphere sampling (default) and your importance sampling. The sampling rate should be fixed at 64 samples per pixel and 1 samples per light. The number of bounces should be at least 5. Briefly discuss their difference.\n",
    "- Show at least one image with some other conductor material, replacing eta and k. Note that you should look up values for real data rather than modifying them arbitrarily. Tell us what kind of material your parameters correspond to"
   ]
  },
  {
   "cell_type": "markdown",
   "metadata": {},
   "source": [
    "####  Make sure you include a short but clear summary of your implementation:\n",
    "\n",
    "For this part I implemented four functions.\n",
    "\n",
    "- MicrofacetBSDF::f()\n",
    "This function is quite straight-forward, I implemented the formula to calculate f on the spec. I also add a check at the beginning of the function. If the dot product between our wo/wi and the normal vector is negative, we return 0 and exit early.\n",
    "\n",
    "- MicrofacetBSDF::D()\n",
    "This function is also straight-forward. The formula is a little bit complicated then the last one but not very long. I coded it up in a few lines.\n",
    "\n",
    "- MicrofacetBSDF::F()\n",
    "This function is also straight-forward. I coded it up in a few lines according to the formula on the spec.\n",
    "\n",
    "- MicrofacetBSDF::sample_f()\n",
    "This function is the most challenging among all 4 parts. For this function, I first get a random sample from the sampler. Then I calculate theta_h, phi_h and use them to determine the new vector h. Using h I calculated the new angle wi. If the dot product between normal vector and wi is non-negative, we process and calculate the pdf of sampling h with respect to the solid angle. Then we find the final pdf of sampling and return it.\n"
   ]
  },
  {
   "cell_type": "markdown",
   "metadata": {},
   "source": [
    "#### Show a sequence of 4 images of scene CBdragon_microfacet_au.dae rendered with \\alphaα set to 0.005, 0.05, 0.25 and 0.5. The other settings should be at least 128 samples per pixel and 1 samples per light. The number of bounces should be at least 5. Describe the differences between different images. Note that, to change the \\alphaα, just open the .dae file and search for microfacet.\n",
    "\n",
    "<table><tr>\n",
    "    \n",
    "<td> <img src=\"./webpage_img/part2_alpha0005.png\" style=\"width: 500px;\"/>\n",
    "     <figcaption align=\"middle\" style=\"font-size: 24;\"> alpha = 0.005 </figcaption></td>\n",
    "\n",
    "<td> <img src=\"./webpage_img/part2_alpha005.png\" style=\"width: 500px;\"/>\n",
    "     <figcaption align=\"middle\" style=\"font-size: 24;\"> alpha = 0.05 </figcaption></td>\n",
    "\n",
    "</tr></table>\n",
    "\n",
    "<table><tr>\n",
    "    \n",
    "<td> <img src=\"./webpage_img/part2_alpha025.png\" style=\"width: 500px;\"/>\n",
    "     <figcaption align=\"middle\" style=\"font-size: 24;\"> alpha = 0.25 </figcaption></td>\n",
    "     \n",
    "<td> <img src=\"./webpage_img/part2_alpha05.png\" style=\"width: 500px;\"/>\n",
    "     <figcaption align=\"middle\" style=\"font-size: 24;\"> alpha = 0.5 </figcaption></td>\n",
    "\n",
    "</tr></table>\n",
    "\n",
    "\n",
    "Notice that as alpha gets lower, the dragon looks more and more reflective and glossy. This is because that alpha is the roughness of the surface, and that the less rough it is, the more smooth it is. Our dragon with very low alpha will look very smooth and glossy. With high alpha, the dragon is less reflective."
   ]
  },
  {
   "cell_type": "markdown",
   "metadata": {},
   "source": [
    "#### Show two images of scene CBbunny_microfacet_cu.dae rendered using cosine hemisphere sampling (default) and your importance sampling. The sampling rate should be fixed at 64 samples per pixel and 1 samples per light. The number of bounces should be at least 5. Briefly discuss their difference.\n",
    "\n",
    "<table><tr>\n",
    "    \n",
    "<td> <img src=\"./webpage_img/part2_bunny_hemi.png\" style=\"width: 500px;\"/>\n",
    "     <figcaption align=\"middle\" style=\"font-size: 24;\"> hemisphere sampling </figcaption></td>\n",
    "\n",
    "<td> <img src=\"./webpage_img/part2_bunny_importance.png\" style=\"width: 500px;\"/>\n",
    "     <figcaption align=\"middle\" style=\"font-size: 24;\"> importance sampling </figcaption></td>\n",
    "\n",
    "</tr></table>\n",
    "\n",
    "As we can see. the bunny with hemisphere sampling has a lot of parts that has holes in it. It looks a little noisy. On the other hand, the bunny with importance sampling looks very glossy, and is not noisy at all. This is due to the fact that under hemisphere sampling, some areas of the bunny does not have light reflect into the camera, as our sampling is not from a set area but from the whole hemisphere. "
   ]
  },
  {
   "cell_type": "markdown",
   "metadata": {},
   "source": [
    "#### Show at least one image with some other conductor material, replacing eta and k. Note that you should look up values for real data rather than modifying them arbitrarily. Tell us what kind of material your parameters correspond to\n",
    "\n",
    "<table><tr>\n",
    "    \n",
    "<td> <img src=\"./webpage_img/part2_lead_dragon.png\" style=\"width: 400px;\"/>\n",
    "     <figcaption align=\"middle\" style=\"font-size: 24;\"> dragon of lead material </figcaption></td>\n",
    "\n",
    "\n",
    "</tr></table>\n",
    "This material corresponds to lead.\n",
    "Parameters:\n",
    "\n",
    "- s = 128\n",
    "\n",
    "- l = 1\n",
    "\n",
    "- m = 5\n",
    "\n",
    "- eta = [1.0132, 0.65850, 0.42092]\n",
    "\n",
    "- k = [6.2285, 5.6248, 4.6673]"
   ]
  }
 ],
 "metadata": {
  "kernelspec": {
   "display_name": "Python 3",
   "language": "python",
   "name": "python3"
  },
  "language_info": {
   "codemirror_mode": {
    "name": "ipython",
    "version": 3
   },
   "file_extension": ".py",
   "mimetype": "text/x-python",
   "name": "python",
   "nbconvert_exporter": "python",
   "pygments_lexer": "ipython3",
   "version": "3.6.6"
  }
 },
 "nbformat": 4,
 "nbformat_minor": 2
}
